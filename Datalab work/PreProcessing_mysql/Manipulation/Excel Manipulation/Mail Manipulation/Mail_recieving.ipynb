{
 "cells": [
  {
   "cell_type": "code",
   "execution_count": 63,
   "id": "90463582-65a2-4021-9ccc-3b9222c2646d",
   "metadata": {},
   "outputs": [],
   "source": [
    "import imaplib\n",
    "import email\n",
    "from email.header import decode_header\n",
    "import webbrowser\n",
    "import os\n",
    "import datetime\n"
   ]
  },
  {
   "cell_type": "code",
   "execution_count": 73,
   "id": "de255871-6f31-446d-b294-4ebb0c724c86",
   "metadata": {
    "scrolled": true
   },
   "outputs": [
    {
     "name": "stdout",
     "output_type": "stream",
     "text": [
      "28-Feb-2024\n"
     ]
    }
   ],
   "source": [
    "\n",
    "# IMAP server settings for Gmail\n",
    "IMAP_HOST = 'mail.privateemail.com'\n",
    "IMAP_PORT = 443\n",
    "\n",
    "# Your credentials\n",
    "USERNAME = 'fahad@softzino.com'\n",
    "PASSWORD = ''\n",
    "\n",
    "# Connect to the IMAP server\n",
    "mail = imaplib.IMAP4_SSL(IMAP_HOST)\n",
    "\n",
    "# Login\n",
    "mail.login(USERNAME, PASSWORD)\n",
    "\n",
    "# Select the mailbox you want to access (e.g., 'INBOX')\n",
    "mail.select('INBOX')\n",
    "\n",
    "time_value = datetime.timedelta(weeks = 0, days=0, hours=0, minutes=0, seconds=0)\n",
    "\n",
    "now = datetime.date.today().strftime(\"%d-%b-%Y\")\n",
    "\n",
    "date = (datetime.datetime.today() - time_value).strftime(\"%d-%b-%Y\")\n",
    "\n",
    "print(date)\n",
    "\n",
    "\n",
    "status, email_ids = mail.search(None, 'ALL', f'( BEFORE {date})')"
   ]
  },
  {
   "cell_type": "code",
   "execution_count": 74,
   "id": "f08316a2-2bf7-4fe7-8751-6e7d428dd16b",
   "metadata": {},
   "outputs": [
    {
     "data": {
      "text/plain": [
       "'OK'"
      ]
     },
     "execution_count": 74,
     "metadata": {},
     "output_type": "execute_result"
    }
   ],
   "source": [
    "status"
   ]
  },
  {
   "cell_type": "code",
   "execution_count": 75,
   "id": "b536cdb8-c3bd-4153-9d6a-71bc1e145330",
   "metadata": {},
   "outputs": [
    {
     "name": "stdout",
     "output_type": "stream",
     "text": [
      "[b'1', b'2', b'3', b'4', b'5', b'6', b'7', b'8', b'9', b'10', b'11', b'12', b'13', b'14', b'15', b'16', b'17', b'18', b'19', b'20', b'21', b'22', b'23', b'24', b'25', b'26', b'27', b'28', b'29', b'30', b'31', b'32', b'33', b'34', b'35', b'36', b'37', b'38', b'39', b'40', b'41', b'42', b'43', b'44', b'45', b'46', b'47', b'48', b'49', b'50', b'51', b'52', b'53', b'54', b'55', b'56']\n"
     ]
    }
   ],
   "source": [
    "email_ids[0]\n",
    "print(email_ids[0].split())"
   ]
  },
  {
   "cell_type": "code",
   "execution_count": 76,
   "id": "812a9665-32e3-49bf-a015-af485fbfb48b",
   "metadata": {
    "scrolled": true
   },
   "outputs": [
    {
     "name": "stdout",
     "output_type": "stream",
     "text": [
      "From: Softzino <shuvo@softzino.com>\n",
      "To: fahad@softzino.com\n",
      "Subject: Mail Processing Excels\n",
      "emailbody complete ...\n",
      "file names processed ...\n",
      "GRID DAILY - Sales Traffic Conversion - For ART.xlsx\n",
      "fp closed ...\n",
      "file names processed ...\n",
      "NSO Data - Rolling Daily Accessory Sales.xlsx\n",
      "fp closed ...\n"
     ]
    },
    {
     "data": {
      "text/plain": [
       "('BYE', [b'Logging out'])"
      ]
     },
     "execution_count": 76,
     "metadata": {},
     "output_type": "execute_result"
    }
   ],
   "source": [
    "for msgId in reversed(email_ids[0].split()):\n",
    "    typ, messageParts = mail.fetch(msgId, '(RFC822)')\n",
    "    emailBody = messageParts[0][1]\n",
    "    raw_email_string = emailBody.decode('utf-8')\n",
    "    mail_msg = email.message_from_string(raw_email_string)\n",
    "    #print(mail_msg)\n",
    "    print('From:', mail_msg['From'])\n",
    "    print('To:', mail_msg['To'])\n",
    "    print('Subject:', mail_msg['Subject'])\n",
    "    print('emailbody complete ...')\n",
    "    \n",
    "    for part in mail_msg.walk():\n",
    "        \n",
    "        if part.get_content_maintype() == 'multipart':\n",
    "            #print(part.as_string())\n",
    "            continue\n",
    "        if part.get('Content-Disposition') is None:\n",
    "            #print(part.as_string())\n",
    "            continue\n",
    "            \n",
    "        fileName = part.get_filename()\n",
    "        print('file names processed ...')\n",
    "        if bool(fileName):\n",
    "            filePath = os.path.join('attachments', fileName)\n",
    "            #if not os.path.isfile(filePath):\n",
    "            print(fileName)\n",
    "            fp = open(filePath, 'wb')\n",
    "            fp.write(part.get_payload(decode=True))\n",
    "            fp.close()\n",
    "            print('fp closed ...')\n",
    "    break;\n",
    "mail.close()\n",
    "mail.logout()"
   ]
  },
  {
   "cell_type": "code",
   "execution_count": null,
   "id": "d8c2bb2e-209b-4042-9906-9f29bf599360",
   "metadata": {},
   "outputs": [],
   "source": []
  },
  {
   "cell_type": "code",
   "execution_count": 3,
   "id": "4c9fa02b-676f-42c6-818a-d5bb0fcf91db",
   "metadata": {},
   "outputs": [],
   "source": [
    "from apple_fiscal_year.fiscal_functions import AppleFiscalYear"
   ]
  },
  {
   "cell_type": "code",
   "execution_count": 13,
   "id": "742048fa-ceee-4b27-94ab-a8df4c136417",
   "metadata": {},
   "outputs": [],
   "source": [
    "fiscal_year = AppleFiscalYear()\n",
    "\n",
    "year = fiscal_year.fiscal_year('2024-02-28')\n",
    "\n",
    "week = fiscal_year.fiscal_week('2024-02-28')\n",
    "\n",
    "period = fiscal_year.fiscal_period('2024-02-28')\n",
    "\n",
    "quarter = fiscal_year.fiscal_quarter('2024-02-28')\n",
    "\n",
    "day = fiscal_year.fiscal_day('2024-02-28')"
   ]
  },
  {
   "cell_type": "code",
   "execution_count": 14,
   "id": "273aa1e0-6dcd-44af-b639-42d82af2fce6",
   "metadata": {},
   "outputs": [
    {
     "name": "stdout",
     "output_type": "stream",
     "text": [
      "{'number': 2024, 'long_name': 'FY 2024', 'short_name': 'FY24', 'start_date': '2023-10-01', 'end_date': '2024-09-28', 'start_ts': 1696096800.0, 'end_ts': 1727460000.0}\n"
     ]
    }
   ],
   "source": [
    "print(year)"
   ]
  },
  {
   "cell_type": "code",
   "execution_count": 9,
   "id": "e31ccd49-f8fe-4db4-948d-9c9164af0dda",
   "metadata": {},
   "outputs": [
    {
     "name": "stdout",
     "output_type": "stream",
     "text": [
      "{'number': 22, 'long_name': 'Week 22', 'short_name': 'W22', 'start_date': '2024-02-25', 'end_date': '2024-03-02', 'start_ts': 1708797600.0, 'end_ts': 1709316000.0}\n"
     ]
    }
   ],
   "source": [
    "print(week)"
   ]
  },
  {
   "cell_type": "code",
   "execution_count": 13,
   "id": "a84eeedb-67a7-4bc0-9b98-739a6f8aabf6",
   "metadata": {},
   "outputs": [
    {
     "name": "stdout",
     "output_type": "stream",
     "text": [
      "{'number': 2, 'long_name': 'Quarter 2', 'short_name': 'Q2', 'start_date': '2023-12-31', 'end_date': '2024-03-30', 'start_ts': 1703959200.0, 'end_ts': 1711735200.0}\n",
      "{'number': 5, 'long_name': 'Period 5', 'short_name': 'P5', 'start_date': '2024-02-04', 'end_date': '2024-03-02', 'start_ts': 1706983200.0, 'end_ts': 1709316000.0}\n",
      "{'number': 151.0, 'long_name': 'Day 151.0', 'short_name': 'D151.0', 'start_date': '2024-02-28', 'end_date': '2024-02-28', 'start_ts': 1709056800, 'end_ts': 1709056800}\n"
     ]
    }
   ],
   "source": [
    "print(quarter, period, day, sep='\\n')"
   ]
  },
  {
   "cell_type": "code",
   "execution_count": null,
   "id": "0b77880c-fd87-494d-af6c-803dd47933e2",
   "metadata": {},
   "outputs": [],
   "source": []
  }
 ],
 "metadata": {
  "kernelspec": {
   "display_name": "Python 3 (ipykernel)",
   "language": "python",
   "name": "python3"
  },
  "language_info": {
   "codemirror_mode": {
    "name": "ipython",
    "version": 3
   },
   "file_extension": ".py",
   "mimetype": "text/x-python",
   "name": "python",
   "nbconvert_exporter": "python",
   "pygments_lexer": "ipython3",
   "version": "3.10.11"
  }
 },
 "nbformat": 4,
 "nbformat_minor": 5
}
