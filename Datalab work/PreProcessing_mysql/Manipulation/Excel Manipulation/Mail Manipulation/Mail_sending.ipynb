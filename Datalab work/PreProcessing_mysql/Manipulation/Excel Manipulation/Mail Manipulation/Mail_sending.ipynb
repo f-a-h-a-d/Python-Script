{
 "cells": [
  {
   "cell_type": "code",
   "execution_count": 1,
   "id": "737a799a-45c1-4843-b30e-b66e28bfcd1a",
   "metadata": {},
   "outputs": [],
   "source": [
    "import smtplib, ssl\n",
    "from email.mime.text import MIMEText\n",
    "from email.mime.multipart import MIMEMultipart\n",
    "from email.mime.application import MIMEApplication\n",
    "from email.utils import COMMASPACE, formatdate"
   ]
  },
  {
   "cell_type": "code",
   "execution_count": 26,
   "id": "e87611b8-ed75-43a8-a8a7-77fbef0a74ee",
   "metadata": {},
   "outputs": [],
   "source": [
    "def send_mail(subject, body, to, mail_from=None, cc=None, attachments=None):\n",
    "        \"\"\"\n",
    "            For multiple attachments, use glob to load all the files.\n",
    "            Example:    attachments = glob.glob('file_path/*.file_type')\n",
    "        \"\"\"\n",
    "\n",
    "        print(\"Sending mail...\")\n",
    "        if mail_from:\n",
    "            mail_from = mail_from\n",
    "        else:\n",
    "        mail_from = 'Test Mail <noreply@test.com>'\n",
    "        msgRoot = MIMEMultipart('related')\n",
    "        msgRoot['Subject'] = subject\n",
    "        msgRoot['From'] = mail_from\n",
    "        if isinstance(to, list):\n",
    "            msgRoot['To'] = COMMASPACE.join(to)\n",
    "        else:\n",
    "            msgRoot['To'] = to\n",
    "        if cc:\n",
    "            if isinstance(cc, list):\n",
    "                msgRoot['CC'] = COMMASPACE.join(cc)\n",
    "            else:\n",
    "                msgRoot['CC'] = cc\n",
    "\n",
    "        msgAlternative = MIMEMultipart('alternative')\n",
    "        msgRoot.attach(msgAlternative)\n",
    "\n",
    "        msgText = MIMEText(body, 'html')\n",
    "        msgAlternative.attach(msgText)\n",
    "\n",
    "        if attachments:\n",
    "            for attachment in attachments:\n",
    "                with open(attachment, \"rb\") as f:\n",
    "                    part = MIMEApplication(\n",
    "                        f.read(),\n",
    "                        Name=os.path.basename(attachment)\n",
    "                    )\n",
    "                    part['Content-Disposition'] = 'attachment; filename=\"{fn}\"'.format(fn=os.path.basename(attachment))\n",
    "                    msgRoot.attach(part)\n",
    "\n",
    "        smtp = smtplib.SMTP(host='localhost', port=1025)\n",
    "        user = 'test'\n",
    "        password='123456'\n",
    "        smtp.login(user, password)\n",
    "        smtp.sendmail(mail_from, to, msgRoot.as_string())\n",
    "        smtp.quit()\n",
    "        print(\"Mail has been sent!\")\n",
    "\n",
    "        return True"
   ]
  },
  {
   "cell_type": "code",
   "execution_count": 27,
   "id": "646ba9de-0de9-4a73-941c-2139e2ff54d1",
   "metadata": {},
   "outputs": [],
   "source": [
    "body=f'''\n",
    "<b>What is Lorem Ipsum?</b>\n",
    "<div>Lorem Ipsum is simply dummy text of the printing and typesetting industry. \n",
    "Lorem Ipsum has been the industry's standard dummy text ever since the 1500s, \n",
    "when an unknown printer took a galley of type and scrambled it to make a type specimen book. \n",
    "It has survived not only five centuries, but also the leap into electronic typesetting, remaining essentially unchanged. \n",
    "It was popularised in the 1960s with the release of Letraset sheets containing Lorem Ipsum passages, and more recently with \n",
    "desktop publishing software like Aldus PageMaker including versions of Lorem Ipsum.</div>\n",
    "'''\n"
   ]
  },
  {
   "cell_type": "code",
   "execution_count": 28,
   "id": "5b7e2c4c-500b-4153-8c5d-e11cfddfbc36",
   "metadata": {},
   "outputs": [],
   "source": [
    "import os, glob\n",
    "attachments = glob.glob('Datalab_Practice/train_output.xlsx')"
   ]
  },
  {
   "cell_type": "code",
   "execution_count": 30,
   "id": "be000b16-d1eb-4590-9308-f05baf42b666",
   "metadata": {},
   "outputs": [
    {
     "name": "stdout",
     "output_type": "stream",
     "text": [
      "Sending mail...\n",
      "Mail has been sent!\n"
     ]
    },
    {
     "data": {
      "text/plain": [
       "True"
      ]
     },
     "execution_count": 30,
     "metadata": {},
     "output_type": "execute_result"
    }
   ],
   "source": [
    "send_mail(subject=\"Train Excels\", body=body, to='fahad@softzino.com', mail_from=\"test@softzino.com\", cc=\"testcc@softzino.com\", attachments=attachments)"
   ]
  },
  {
   "cell_type": "code",
   "execution_count": null,
   "id": "4733ba20-9c67-4466-9997-496c990753f8",
   "metadata": {},
   "outputs": [],
   "source": []
  },
  {
   "cell_type": "code",
   "execution_count": null,
   "id": "169bfeb4-a645-411c-a5eb-cd893c190bf4",
   "metadata": {},
   "outputs": [],
   "source": []
  },
  {
   "cell_type": "code",
   "execution_count": null,
   "id": "29051fa0-e102-47c0-b5c1-882deb13d780",
   "metadata": {},
   "outputs": [],
   "source": []
  }
 ],
 "metadata": {
  "kernelspec": {
   "display_name": "Python 3 (ipykernel)",
   "language": "python",
   "name": "python3"
  },
  "language_info": {
   "codemirror_mode": {
    "name": "ipython",
    "version": 3
   },
   "file_extension": ".py",
   "mimetype": "text/x-python",
   "name": "python",
   "nbconvert_exporter": "python",
   "pygments_lexer": "ipython3",
   "version": "3.10.11"
  }
 },
 "nbformat": 4,
 "nbformat_minor": 5
}
