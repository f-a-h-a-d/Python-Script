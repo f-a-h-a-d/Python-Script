{
 "cells": [
  {
   "cell_type": "code",
   "execution_count": 2,
   "id": "5d14eb4d-97f1-4093-96c7-8592d6a97aba",
   "metadata": {},
   "outputs": [],
   "source": [
    "import random\n",
    "import csv\n",
    "import datetime\n",
    "import string\n",
    "import pandas as pd"
   ]
  },
  {
   "cell_type": "code",
   "execution_count": 3,
   "id": "733ba1af-d7ab-4cd7-bdbf-e2d42054e2be",
   "metadata": {},
   "outputs": [],
   "source": [
    "def generateRandValueInt(x, y):\n",
    "    beginRand = x\n",
    "    endRand = y\n",
    "    randValue = random.randint(beginRand, endRand)\n",
    "    return randValue\n",
    "\n",
    "def generateRandValuefloat(x, y):\n",
    "    beginRand = x\n",
    "    endRand = y\n",
    "    randValue = round(random.uniform(x, y), 2)\n",
    "    return randValue\n",
    "\n",
    "def random_date(start, end):\n",
    "  return start + datetime.timedelta(seconds=random.randint(0, int((end - start).total_seconds())))\n",
    "\n",
    "\n",
    "    "
   ]
  },
  {
   "cell_type": "code",
   "execution_count": 4,
   "id": "dbfefd46-63df-4ef9-8d9e-15e210a58a90",
   "metadata": {},
   "outputs": [],
   "source": [
    "def generateRand():\n",
    "    for i in range(10_000):\n",
    "\n",
    "        #integer generation\n",
    "        \n",
    "        x = random.randint(1, 10_000)\n",
    "        y = random.randint(1, 10_000)\n",
    "        \n",
    "        foundValueInt = generateRandValueInt(min(x, y), max(x, y))\n",
    "        list_integer.append(foundValueInt)\n",
    "\n",
    "        #float generation\n",
    "        \n",
    "        xf = random.uniform(1.0, 10000.0)\t\n",
    "        yf = random.uniform(1.0, 10000.0)\n",
    "\n",
    "        foundValueFloat = generateRandValuefloat(min(xf, yf), max(xf, yf))\n",
    "        list_float.append(foundValueFloat)\n",
    "\n",
    "        #date generation\n",
    "        \n",
    "        start = datetime.datetime(2020, 1, 1)\n",
    "        end = datetime.datetime(2024, 1, 1)\n",
    "        random_date_x = random_date(start, end)\n",
    "        list_random_date.append(random_date_x)\n",
    "\n",
    "        #string generation\n",
    "\n",
    "        string_value = ''.join(random.choices(string.ascii_uppercase + string.ascii_lowercase, k=10));\n",
    "        list_string.append(string_value)\n",
    "        \n",
    "\n",
    "list_integer = []\n",
    "list_float = []\n",
    "list_random_date = []\n",
    "list_string = []\n",
    "\n",
    "generateRand()\n",
    "\n"
   ]
  },
  {
   "cell_type": "code",
   "execution_count": 49,
   "id": "938b35d8-d19f-46ce-972b-3b27d0e0fd07",
   "metadata": {},
   "outputs": [],
   "source": [
    "\n",
    "dict = {'Integer': list_integer, 'Float': list_float, 'String': list_string, 'Date': list_random_date}\n",
    "     \n",
    "df = pd.DataFrame(dict)\n",
    "     \n",
    "df.to_csv('Output1.csv')"
   ]
  },
  {
   "cell_type": "code",
   "execution_count": 55,
   "id": "a8f0450d-0f94-47a6-a418-07511ace83ac",
   "metadata": {},
   "outputs": [
    {
     "name": "stdout",
     "output_type": "stream",
     "text": [
      "[['Integer', 'Float', 'Random Date', 'String']]\n"
     ]
    }
   ],
   "source": [
    "#Sending the values to the file\n",
    "\n",
    "with open('Output2.csv', 'w', newline='') as file:\n",
    "    writer = csv.writer(file)\n",
    "    \n",
    "    final_list = [[\"Integer\", \"Float\", \"Random Date\", \"String\"]]\n",
    "    print(final_list)\n",
    "    for i in range(10_000):\n",
    "        my_list = []\n",
    "        my_list.append(list_integer[i])\n",
    "        my_list.append(list_float[i])\n",
    "        my_list.append(list_random_date[i])\n",
    "        my_list.append(list_string[i])\n",
    "        final_list.append(my_list)\n",
    "            \n",
    "    writer.writerows(final_list)"
   ]
  },
  {
   "cell_type": "code",
   "execution_count": 31,
   "id": "29fa3fe8-0ddc-415c-9618-5ebb2e78103d",
   "metadata": {},
   "outputs": [
    {
     "name": "stdout",
     "output_type": "stream",
     "text": [
      "['5655', '3670.87', '2020-02-22 16:20:34', 'pMHLQRKvLe']\n",
      "['5423', '3401.7', '2021-04-08 03:06:43', 'IdcsBykrWi']\n",
      "['1603', '3603.22', '2023-04-22 07:14:51', 'IEOrueXVwL']\n"
     ]
    }
   ],
   "source": [
    "#Reading from the file\n",
    "\n",
    "\n",
    "\n",
    "input_start = 5\n",
    "input_end = 7\n",
    "\n",
    "with open('Output2.csv', mode ='r')as file:\n",
    "    csvFile = csv.reader(file)\n",
    "    \n",
    "    for i, lines in enumerate(csvFile):\n",
    "        if (i >= input_start and i <= input_end):\n",
    "            print(lines)\n",
    "\n",
    "\n"
   ]
  },
  {
   "cell_type": "code",
   "execution_count": 34,
   "id": "642b5590-9cb1-4dcf-8f18-6c68f5772c32",
   "metadata": {},
   "outputs": [
    {
     "name": "stdout",
     "output_type": "stream",
     "text": [
      "<_csv.reader object at 0x119d60200>\n"
     ]
    }
   ],
   "source": [
    "print(csvFile)"
   ]
  },
  {
   "cell_type": "code",
   "execution_count": 35,
   "id": "ad97553f-a9ee-4e58-b8b4-3519069e714c",
   "metadata": {},
   "outputs": [],
   "source": [
    "dic = [\n",
    "    {\n",
    "    'name': 'Fahad',\n",
    "    'age': 24\n",
    "    },\n",
    "    {\n",
    "    'name': 'Shuvo',\n",
    "    'age': 28\n",
    "    }]\n",
    "       \n",
    "       "
   ]
  },
  {
   "cell_type": "code",
   "execution_count": 46,
   "id": "56449449-29ce-4a81-8c09-4317d6d5fb17",
   "metadata": {},
   "outputs": [
    {
     "name": "stdout",
     "output_type": "stream",
     "text": [
      "{'name': 'Fahad', 'age': 24}\n",
      "{'name': 'Shuvo', 'age': 28}\n"
     ]
    }
   ],
   "source": [
    "for key, value in enumerate(dic):\n",
    "    print(value)"
   ]
  },
  {
   "cell_type": "code",
   "execution_count": null,
   "id": "26f8168b-0f31-4884-9c5b-52f519c25aee",
   "metadata": {},
   "outputs": [],
   "source": []
  }
 ],
 "metadata": {
  "kernelspec": {
   "display_name": "Python 3 (ipykernel)",
   "language": "python",
   "name": "python3"
  },
  "language_info": {
   "codemirror_mode": {
    "name": "ipython",
    "version": 3
   },
   "file_extension": ".py",
   "mimetype": "text/x-python",
   "name": "python",
   "nbconvert_exporter": "python",
   "pygments_lexer": "ipython3",
   "version": "3.10.11"
  }
 },
 "nbformat": 4,
 "nbformat_minor": 5
}
