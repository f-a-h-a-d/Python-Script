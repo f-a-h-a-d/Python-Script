{
 "cells": [
  {
   "cell_type": "code",
   "execution_count": 91,
   "id": "00022e07-579e-41ec-9ffa-37851886d4c7",
   "metadata": {},
   "outputs": [],
   "source": [
    "import mysql.connector as mysql\n",
    "from sqlalchemy import create_engine\n",
    "import pandas as pd"
   ]
  },
  {
   "cell_type": "code",
   "execution_count": 92,
   "id": "d89c440e-6866-4150-8c04-273031b6d296",
   "metadata": {},
   "outputs": [],
   "source": [
    "connection = mysql.connect(user='root', \n",
    "                           password='softzino',\n",
    "                           host='127.0.0.1',\n",
    "                           database='new_schema')"
   ]
  },
  {
   "cell_type": "code",
   "execution_count": 93,
   "id": "d8b2e57f-6898-4216-b18a-1e943a54fc24",
   "metadata": {},
   "outputs": [
    {
     "data": {
      "text/plain": [
       "True"
      ]
     },
     "execution_count": 93,
     "metadata": {},
     "output_type": "execute_result"
    }
   ],
   "source": [
    "connection.is_connected()"
   ]
  },
  {
   "cell_type": "code",
   "execution_count": 94,
   "id": "19299828-9a23-4f8a-abb4-224600cbd876",
   "metadata": {},
   "outputs": [],
   "source": [
    "df = pd.read_csv('train_output.csv')\n",
    "\n"
   ]
  },
  {
   "cell_type": "code",
   "execution_count": 95,
   "id": "b586dc66-0b98-4c7b-b631-2a2b1cbe922d",
   "metadata": {
    "scrolled": true
   },
   "outputs": [],
   "source": [
    "df.columns = df.columns.str.replace(' ', '_')\n",
    "df.columns = df.columns.str.replace('-', '_')"
   ]
  },
  {
   "cell_type": "code",
   "execution_count": 80,
   "id": "b2ef8361-afa3-464d-ae05-231228a11a22",
   "metadata": {},
   "outputs": [],
   "source": [
    "df = df.fillna('NULL')"
   ]
  },
  {
   "cell_type": "code",
   "execution_count": 96,
   "id": "db03c53d-33ea-419b-b8a6-3db3dfe592c2",
   "metadata": {},
   "outputs": [
    {
     "data": {
      "text/html": [
       "<div>\n",
       "<style scoped>\n",
       "    .dataframe tbody tr th:only-of-type {\n",
       "        vertical-align: middle;\n",
       "    }\n",
       "\n",
       "    .dataframe tbody tr th {\n",
       "        vertical-align: top;\n",
       "    }\n",
       "\n",
       "    .dataframe thead th {\n",
       "        text-align: right;\n",
       "    }\n",
       "</style>\n",
       "<table border=\"1\" class=\"dataframe\">\n",
       "  <thead>\n",
       "    <tr style=\"text-align: right;\">\n",
       "      <th></th>\n",
       "      <th>Row_ID</th>\n",
       "      <th>Order_ID</th>\n",
       "      <th>Order_Date</th>\n",
       "      <th>Ship_Date</th>\n",
       "      <th>Ship_Mode</th>\n",
       "      <th>Customer_ID</th>\n",
       "      <th>Customer_Name</th>\n",
       "      <th>Segment</th>\n",
       "      <th>Country</th>\n",
       "      <th>City</th>\n",
       "      <th>State</th>\n",
       "      <th>Postal_Code</th>\n",
       "      <th>Region</th>\n",
       "      <th>Product_ID</th>\n",
       "      <th>Category</th>\n",
       "      <th>Sub_Category</th>\n",
       "      <th>Product_Name</th>\n",
       "      <th>Sales</th>\n",
       "    </tr>\n",
       "  </thead>\n",
       "  <tbody>\n",
       "    <tr>\n",
       "      <th>0</th>\n",
       "      <td>1</td>\n",
       "      <td>CA_2017_152156</td>\n",
       "      <td>2017-11-08 00:00:00</td>\n",
       "      <td>2017-11-11 00:00:00</td>\n",
       "      <td>Second Class</td>\n",
       "      <td>CG_12520</td>\n",
       "      <td>Claire Gute</td>\n",
       "      <td>Consumer</td>\n",
       "      <td>United States</td>\n",
       "      <td>Henderson</td>\n",
       "      <td>Kentucky</td>\n",
       "      <td>42420.0</td>\n",
       "      <td>South</td>\n",
       "      <td>FUR-BO-10001798</td>\n",
       "      <td>Furniture</td>\n",
       "      <td>Bookcases</td>\n",
       "      <td>Bush Somerset Collection Bookcase</td>\n",
       "      <td>261.96</td>\n",
       "    </tr>\n",
       "    <tr>\n",
       "      <th>1</th>\n",
       "      <td>2</td>\n",
       "      <td>CA_2017_152156</td>\n",
       "      <td>2017-11-08 00:00:00</td>\n",
       "      <td>2017-11-11 00:00:00</td>\n",
       "      <td>Second Class</td>\n",
       "      <td>CG_12520</td>\n",
       "      <td>Claire Gute</td>\n",
       "      <td>Consumer</td>\n",
       "      <td>United States</td>\n",
       "      <td>Henderson</td>\n",
       "      <td>Kentucky</td>\n",
       "      <td>42420.0</td>\n",
       "      <td>South</td>\n",
       "      <td>FUR-CH-10000454</td>\n",
       "      <td>Furniture</td>\n",
       "      <td>Chairs</td>\n",
       "      <td>Hon Deluxe Fabric Upholstered Stacking Chairs,...</td>\n",
       "      <td>731.94</td>\n",
       "    </tr>\n",
       "    <tr>\n",
       "      <th>2</th>\n",
       "      <td>3</td>\n",
       "      <td>CA_2017_138688</td>\n",
       "      <td>2017-06-12 00:00:00</td>\n",
       "      <td>2017-06-16 00:00:00</td>\n",
       "      <td>Second Class</td>\n",
       "      <td>DV_13045</td>\n",
       "      <td>Darrin Van Huff</td>\n",
       "      <td>Corporate</td>\n",
       "      <td>United States</td>\n",
       "      <td>Los Angeles</td>\n",
       "      <td>California</td>\n",
       "      <td>90036.0</td>\n",
       "      <td>West</td>\n",
       "      <td>OFF-LA-10000240</td>\n",
       "      <td>Office Supplies</td>\n",
       "      <td>Labels</td>\n",
       "      <td>Self-Adhesive Address Labels for Typewriters b...</td>\n",
       "      <td>14.62</td>\n",
       "    </tr>\n",
       "  </tbody>\n",
       "</table>\n",
       "</div>"
      ],
      "text/plain": [
       "   Row_ID        Order_ID           Order_Date            Ship_Date  \\\n",
       "0       1  CA_2017_152156  2017-11-08 00:00:00  2017-11-11 00:00:00   \n",
       "1       2  CA_2017_152156  2017-11-08 00:00:00  2017-11-11 00:00:00   \n",
       "2       3  CA_2017_138688  2017-06-12 00:00:00  2017-06-16 00:00:00   \n",
       "\n",
       "      Ship_Mode Customer_ID    Customer_Name    Segment        Country  \\\n",
       "0  Second Class    CG_12520      Claire Gute   Consumer  United States   \n",
       "1  Second Class    CG_12520      Claire Gute   Consumer  United States   \n",
       "2  Second Class    DV_13045  Darrin Van Huff  Corporate  United States   \n",
       "\n",
       "          City       State  Postal_Code Region       Product_ID  \\\n",
       "0    Henderson    Kentucky      42420.0  South  FUR-BO-10001798   \n",
       "1    Henderson    Kentucky      42420.0  South  FUR-CH-10000454   \n",
       "2  Los Angeles  California      90036.0   West  OFF-LA-10000240   \n",
       "\n",
       "          Category Sub_Category  \\\n",
       "0        Furniture    Bookcases   \n",
       "1        Furniture       Chairs   \n",
       "2  Office Supplies       Labels   \n",
       "\n",
       "                                        Product_Name   Sales  \n",
       "0                  Bush Somerset Collection Bookcase  261.96  \n",
       "1  Hon Deluxe Fabric Upholstered Stacking Chairs,...  731.94  \n",
       "2  Self-Adhesive Address Labels for Typewriters b...   14.62  "
      ]
     },
     "execution_count": 96,
     "metadata": {},
     "output_type": "execute_result"
    }
   ],
   "source": [
    "df.head(3)"
   ]
  },
  {
   "cell_type": "code",
   "execution_count": null,
   "id": "bf7e380f-277c-425a-ae7e-c78b3644ac82",
   "metadata": {},
   "outputs": [],
   "source": []
  },
  {
   "cell_type": "code",
   "execution_count": 97,
   "id": "179cb1ec-09b2-46d8-abe7-5678aea34309",
   "metadata": {},
   "outputs": [
    {
     "data": {
      "text/plain": [
       "Row_ID             int64\n",
       "Order_ID          object\n",
       "Order_Date        object\n",
       "Ship_Date         object\n",
       "Ship_Mode         object\n",
       "Customer_ID       object\n",
       "Customer_Name     object\n",
       "Segment           object\n",
       "Country           object\n",
       "City              object\n",
       "State             object\n",
       "Postal_Code      float64\n",
       "Region            object\n",
       "Product_ID        object\n",
       "Category          object\n",
       "Sub_Category      object\n",
       "Product_Name      object\n",
       "Sales            float64\n",
       "dtype: object"
      ]
     },
     "execution_count": 97,
     "metadata": {},
     "output_type": "execute_result"
    }
   ],
   "source": [
    "df.dtypes"
   ]
  },
  {
   "cell_type": "code",
   "execution_count": 98,
   "id": "d400cc2e-ec66-4707-a5af-dddba0aba5ca",
   "metadata": {},
   "outputs": [],
   "source": [
    "import re"
   ]
  },
  {
   "cell_type": "code",
   "execution_count": 99,
   "id": "39ec3574-a8ed-42ef-9b7c-68fa1d370790",
   "metadata": {},
   "outputs": [],
   "source": [
    "create_col = []"
   ]
  },
  {
   "cell_type": "code",
   "execution_count": 100,
   "id": "8e6aa83d-0a02-4a2e-b6d8-6bf4596b5303",
   "metadata": {},
   "outputs": [],
   "source": [
    "for col, type in df.dtypes.items():\n",
    "    if re.search('date', col) or re.search('Date', col) :\n",
    "        create_col.append({\n",
    "            'column_name': str(col),\n",
    "            'column_type': 'datetime'\n",
    "        })\n",
    "    elif type == 'int64':\n",
    "        create_col.append({\n",
    "            'column_name': str(col),\n",
    "            'column_type': 'numeric'\n",
    "        })\n",
    "    elif type == 'float64':\n",
    "        create_col.append({\n",
    "            'column_name': str(col),\n",
    "            'column_type': 'numeric'\n",
    "        })\n",
    "    elif type == 'object':\n",
    "        create_col.append({\n",
    "            'column_name': str(col),\n",
    "            'column_type': 'varchar(255)'\n",
    "        })"
   ]
  },
  {
   "cell_type": "code",
   "execution_count": 101,
   "id": "6a1d6008-3ef9-4196-a206-6ef9268615be",
   "metadata": {},
   "outputs": [
    {
     "data": {
      "text/plain": [
       "[{'column_name': 'Row_ID', 'column_type': 'numeric'},\n",
       " {'column_name': 'Order_ID', 'column_type': 'varchar(255)'},\n",
       " {'column_name': 'Order_Date', 'column_type': 'datetime'},\n",
       " {'column_name': 'Ship_Date', 'column_type': 'datetime'},\n",
       " {'column_name': 'Ship_Mode', 'column_type': 'varchar(255)'},\n",
       " {'column_name': 'Customer_ID', 'column_type': 'varchar(255)'},\n",
       " {'column_name': 'Customer_Name', 'column_type': 'varchar(255)'},\n",
       " {'column_name': 'Segment', 'column_type': 'varchar(255)'},\n",
       " {'column_name': 'Country', 'column_type': 'varchar(255)'},\n",
       " {'column_name': 'City', 'column_type': 'varchar(255)'},\n",
       " {'column_name': 'State', 'column_type': 'varchar(255)'},\n",
       " {'column_name': 'Postal_Code', 'column_type': 'numeric'},\n",
       " {'column_name': 'Region', 'column_type': 'varchar(255)'},\n",
       " {'column_name': 'Product_ID', 'column_type': 'varchar(255)'},\n",
       " {'column_name': 'Category', 'column_type': 'varchar(255)'},\n",
       " {'column_name': 'Sub_Category', 'column_type': 'varchar(255)'},\n",
       " {'column_name': 'Product_Name', 'column_type': 'varchar(255)'},\n",
       " {'column_name': 'Sales', 'column_type': 'numeric'}]"
      ]
     },
     "execution_count": 101,
     "metadata": {},
     "output_type": "execute_result"
    }
   ],
   "source": [
    "create_col"
   ]
  },
  {
   "cell_type": "code",
   "execution_count": 102,
   "id": "68b49c65-10c7-4a3a-9d62-3c618277f466",
   "metadata": {},
   "outputs": [],
   "source": [
    "def storing_to_database(table_name, df):\n",
    "\n",
    "        cursor = connection.cursor()\n",
    "        \n",
    "        text_final = \"\"\n",
    "    \n",
    "        for x in create_col:\n",
    "            if x['column_name'] == \"Sales\":\n",
    "                text_final += f\"{x['column_name']} {x['column_type']}\"\n",
    "            else:\n",
    "               text_final += f\"{x['column_name']} {x['column_type']}, \"  \n",
    "\n",
    "        print(text_final)\n",
    "            \n",
    "        query = f\"CREATE TABLE IF NOT EXISTS {table_name} ({text_final})\"\n",
    "    \n",
    "        print(query)\n",
    "    \n",
    "        cursor.execute(query)\n",
    "\n",
    "        text_final = \"\"\n",
    "\n",
    "        print(text_final)\n",
    "    \n",
    "        print(df)\n",
    "                       \n",
    "        \n",
    "        print(f\"Successfuly create table {table_name}\")"
   ]
  },
  {
   "cell_type": "code",
   "execution_count": 103,
   "id": "c6442a01-76b5-4a67-94e7-af2459ee23ff",
   "metadata": {},
   "outputs": [
    {
     "name": "stdout",
     "output_type": "stream",
     "text": [
      "Row_ID numeric, Order_ID varchar(255), Order_Date datetime, Ship_Date datetime, Ship_Mode varchar(255), Customer_ID varchar(255), Customer_Name varchar(255), Segment varchar(255), Country varchar(255), City varchar(255), State varchar(255), Postal_Code numeric, Region varchar(255), Product_ID varchar(255), Category varchar(255), Sub_Category varchar(255), Product_Name varchar(255), Sales numeric\n",
      "CREATE TABLE IF NOT EXISTS table_28 (Row_ID numeric, Order_ID varchar(255), Order_Date datetime, Ship_Date datetime, Ship_Mode varchar(255), Customer_ID varchar(255), Customer_Name varchar(255), Segment varchar(255), Country varchar(255), City varchar(255), State varchar(255), Postal_Code numeric, Region varchar(255), Product_ID varchar(255), Category varchar(255), Sub_Category varchar(255), Product_Name varchar(255), Sales numeric)\n",
      "\n",
      "      Row ID        Order ID           Order Date            Ship Date  \\\n",
      "0          1  CA_2017_152156  2017-11-08 00:00:00  2017-11-11 00:00:00   \n",
      "1          2  CA_2017_152156  2017-11-08 00:00:00  2017-11-11 00:00:00   \n",
      "2          3  CA_2017_138688  2017-06-12 00:00:00  2017-06-16 00:00:00   \n",
      "3          4  US_2016_108966  2016-10-11 00:00:00  2016-10-18 00:00:00   \n",
      "4          5  US_2016_108966  2016-10-11 00:00:00  2016-10-18 00:00:00   \n",
      "...      ...             ...                  ...                  ...   \n",
      "9795    9796  CA_2017_125920  2017-05-21 00:00:00  2017-05-28 00:00:00   \n",
      "9796    9797  CA_2016_128608  2016-01-12 00:00:00  2016-01-17 00:00:00   \n",
      "9797    9798  CA_2016_128608  2016-01-12 00:00:00  2016-01-17 00:00:00   \n",
      "9798    9799  CA_2016_128608  2016-01-12 00:00:00  2016-01-17 00:00:00   \n",
      "9799    9800  CA_2016_128608  2016-01-12 00:00:00  2016-01-17 00:00:00   \n",
      "\n",
      "           Ship Mode Customer ID     Customer Name    Segment        Country  \\\n",
      "0       Second Class    CG_12520       Claire Gute   Consumer  United States   \n",
      "1       Second Class    CG_12520       Claire Gute   Consumer  United States   \n",
      "2       Second Class    DV_13045   Darrin Van Huff  Corporate  United States   \n",
      "3     Standard Class    SO_20335    Sean O'Donnell   Consumer  United States   \n",
      "4     Standard Class    SO_20335    Sean O'Donnell   Consumer  United States   \n",
      "...              ...         ...               ...        ...            ...   \n",
      "9795  Standard Class    SH_19975     Sally Hughsby  Corporate  United States   \n",
      "9796  Standard Class    CS_12490  Cindy Schnelling  Corporate  United States   \n",
      "9797  Standard Class    CS_12490  Cindy Schnelling  Corporate  United States   \n",
      "9798  Standard Class    CS_12490  Cindy Schnelling  Corporate  United States   \n",
      "9799  Standard Class    CS_12490  Cindy Schnelling  Corporate  United States   \n",
      "\n",
      "                 City       State  Postal Code   Region       Product ID  \\\n",
      "0           Henderson    Kentucky      42420.0    South  FUR-BO-10001798   \n",
      "1           Henderson    Kentucky      42420.0    South  FUR-CH-10000454   \n",
      "2         Los Angeles  California      90036.0     West  OFF-LA-10000240   \n",
      "3     Fort Lauderdale     Florida      33311.0    South  FUR-TA-10000577   \n",
      "4     Fort Lauderdale     Florida      33311.0    South  OFF-ST-10000760   \n",
      "...               ...         ...          ...      ...              ...   \n",
      "9795          Chicago    Illinois      60610.0  Central  OFF-BI-10003429   \n",
      "9796           Toledo        Ohio      43615.0     East  OFF-AR-10001374   \n",
      "9797           Toledo        Ohio      43615.0     East  TEC-PH-10004977   \n",
      "9798           Toledo        Ohio      43615.0     East  TEC-PH-10000912   \n",
      "9799           Toledo        Ohio      43615.0     East  TEC-AC-10000487   \n",
      "\n",
      "             Category Sub_Category  \\\n",
      "0           Furniture    Bookcases   \n",
      "1           Furniture       Chairs   \n",
      "2     Office Supplies       Labels   \n",
      "3           Furniture       Tables   \n",
      "4     Office Supplies      Storage   \n",
      "...               ...          ...   \n",
      "9795  Office Supplies      Binders   \n",
      "9796  Office Supplies          Art   \n",
      "9797       Technology       Phones   \n",
      "9798       Technology       Phones   \n",
      "9799       Technology  Accessories   \n",
      "\n",
      "                                           Product Name     Sales  \n",
      "0                     Bush Somerset Collection Bookcase  261.9600  \n",
      "1     Hon Deluxe Fabric Upholstered Stacking Chairs,...  731.9400  \n",
      "2     Self-Adhesive Address Labels for Typewriters b...   14.6200  \n",
      "3         Bretford CR4500 Series Slim Rectangular Table  957.5775  \n",
      "4                        Eldon Fold 'N Roll Cart System   22.3680  \n",
      "...                                                 ...       ...  \n",
      "9795  Cardinal HOLDit! Binder Insert Strips,Extra St...    3.7980  \n",
      "9796           BIC Brite Liner Highlighters, Chisel Tip   10.3680  \n",
      "9797                                        GE 30524EE4  235.1880  \n",
      "9798           Anker 24W Portable Micro USB Car Charger   26.3760  \n",
      "9799                SanDisk Cruzer 4 GB USB Flash Drive   10.3840  \n",
      "\n",
      "[9800 rows x 18 columns]\n",
      "Successfuly create table table_28\n"
     ]
    }
   ],
   "source": [
    "df = pd.read_csv('train_output.csv')\n",
    "\n",
    "storing_to_database(\"table_28\", df)  "
   ]
  },
  {
   "cell_type": "code",
   "execution_count": 109,
   "id": "12b475fb-4740-43f4-8032-0038a29b5d9c",
   "metadata": {},
   "outputs": [
    {
     "data": {
      "text/plain": [
       "Index(['Row ID', 'Order ID', 'Order Date', 'Ship Date', 'Ship Mode',\n",
       "       'Customer ID', 'Customer Name', 'Segment', 'Country', 'City', 'State',\n",
       "       'Postal Code', 'Region', 'Product ID', 'Category', 'Sub_Category',\n",
       "       'Product Name', 'Sales'],\n",
       "      dtype='object')"
      ]
     },
     "execution_count": 109,
     "metadata": {},
     "output_type": "execute_result"
    }
   ],
   "source": [
    "df.columns"
   ]
  },
  {
   "cell_type": "code",
   "execution_count": 113,
   "id": "3b1bd234-df20-473d-850b-d45ca18d4223",
   "metadata": {},
   "outputs": [],
   "source": [
    "from tqdm import tqdm"
   ]
  },
  {
   "cell_type": "code",
   "execution_count": 114,
   "id": "d3360ddd-f9e9-4261-a000-d5451f0de3ab",
   "metadata": {},
   "outputs": [
    {
     "name": "stderr",
     "output_type": "stream",
     "text": [
      "100%|█████████████████████████████████████| 9800/9800 [00:04<00:00, 2228.34it/s]\n"
     ]
    }
   ],
   "source": [
    "m = df.values\n",
    "\n",
    "for i in tqdm(range(len(df))):\n",
    "    \n",
    "    query_text = \"(\"\n",
    "    for j in range(18):\n",
    "        \n",
    "        if create_col[j]['column_type'] == \"varchar(255)\" or  create_col[j]['column_type'] == \"datetime\":\n",
    "            query_text += \"'\"\n",
    "            if escape_val:\n",
    "                escape_val = connection._cmysql.escape_string(str(m[i][j]))\n",
    "                escape_val = escape_val.decode('utf-8')\n",
    "            else:\n",
    "                escape_val = 0\n",
    "            query_text += f\"{escape_val}\"\n",
    "            query_text += \"', \"\n",
    "        else:\n",
    "            if j !=17:\n",
    "                query_text += str(m[i][j])\n",
    "                query_text += \",\"\n",
    "            else:\n",
    "                query_text += str(m[i][j])\n",
    "                \n",
    "                      \n",
    "    query_text += \")\"\n",
    "    \n",
    "    \n",
    "    main_query = f\"INSERT INTO table_28 VALUES {query_text}\"\n",
    "    \n",
    "    cursor = connection.cursor()\n",
    "    cursor.execute(main_query)\n",
    "\n",
    "connection.commit() "
   ]
  },
  {
   "cell_type": "code",
   "execution_count": null,
   "id": "81f297ab-0506-41d0-82c7-d09105fa42ed",
   "metadata": {},
   "outputs": [],
   "source": []
  },
  {
   "cell_type": "code",
   "execution_count": null,
   "id": "35e43cab-84c8-454d-8593-5405d5c43037",
   "metadata": {},
   "outputs": [],
   "source": [
    "query = 'INSERT INTO {tablename} VALUES (%s, )'"
   ]
  },
  {
   "cell_type": "code",
   "execution_count": null,
   "id": "35107434-cda0-47f2-bffd-c1f9c8d3987b",
   "metadata": {},
   "outputs": [],
   "source": []
  }
 ],
 "metadata": {
  "kernelspec": {
   "display_name": "Python 3 (ipykernel)",
   "language": "python",
   "name": "python3"
  },
  "language_info": {
   "codemirror_mode": {
    "name": "ipython",
    "version": 3
   },
   "file_extension": ".py",
   "mimetype": "text/x-python",
   "name": "python",
   "nbconvert_exporter": "python",
   "pygments_lexer": "ipython3",
   "version": "3.10.11"
  }
 },
 "nbformat": 4,
 "nbformat_minor": 5
}
